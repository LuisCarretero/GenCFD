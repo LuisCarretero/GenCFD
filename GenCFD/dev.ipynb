{
 "cells": [
  {
   "cell_type": "code",
   "execution_count": 1,
   "metadata": {},
   "outputs": [
    {
     "data": {
      "text/plain": [
       "<module 'dataloader.seismics' from '/cluster/home/lcarretero/workspace/rds/GenCFD/GenCFD/dataloader/seismics.py'>"
      ]
     },
     "execution_count": 1,
     "metadata": {},
     "output_type": "execute_result"
    }
   ],
   "source": [
    "import sys\n",
    "sys.path.append('/cluster/home/lcarretero/workspace/rds/GenCFD/GenCFD')\n",
    "\n",
    "from importlib import reload\n",
    "from dataloader import seismics\n",
    "reload(seismics)"
   ]
  },
  {
   "cell_type": "code",
   "execution_count": 3,
   "metadata": {},
   "outputs": [
    {
     "name": "stdout",
     "output_type": "stream",
     "text": [
      "Getting items at indices range(0, 10)\n",
      "Loading file /scratch/tmp.29038070.lcarretero/inputs3D_S32_Z32_T64_fmax5/shard0.h5 at location 0\n",
      "Loading file /scratch/tmp.29038070.lcarretero/inputs3D_S32_Z32_T64_fmax5/shard0.h5 into cache\n",
      "Loading file /scratch/tmp.29038070.lcarretero/inputs3D_S32_Z32_T64_fmax5/shard0.h5 at location 1\n",
      "File /scratch/tmp.29038070.lcarretero/inputs3D_S32_Z32_T64_fmax5/shard0.h5 already in cache\n",
      "Loading file /scratch/tmp.29038070.lcarretero/inputs3D_S32_Z32_T64_fmax5/shard0.h5 at location 2\n",
      "File /scratch/tmp.29038070.lcarretero/inputs3D_S32_Z32_T64_fmax5/shard0.h5 already in cache\n",
      "Loading file /scratch/tmp.29038070.lcarretero/inputs3D_S32_Z32_T64_fmax5/shard0.h5 at location 3\n",
      "File /scratch/tmp.29038070.lcarretero/inputs3D_S32_Z32_T64_fmax5/shard0.h5 already in cache\n",
      "Loading file /scratch/tmp.29038070.lcarretero/inputs3D_S32_Z32_T64_fmax5/shard0.h5 at location 4\n",
      "File /scratch/tmp.29038070.lcarretero/inputs3D_S32_Z32_T64_fmax5/shard0.h5 already in cache\n",
      "Loading file /scratch/tmp.29038070.lcarretero/inputs3D_S32_Z32_T64_fmax5/shard0.h5 at location 5\n",
      "File /scratch/tmp.29038070.lcarretero/inputs3D_S32_Z32_T64_fmax5/shard0.h5 already in cache\n",
      "Loading file /scratch/tmp.29038070.lcarretero/inputs3D_S32_Z32_T64_fmax5/shard0.h5 at location 6\n",
      "File /scratch/tmp.29038070.lcarretero/inputs3D_S32_Z32_T64_fmax5/shard0.h5 already in cache\n",
      "Loading file /scratch/tmp.29038070.lcarretero/inputs3D_S32_Z32_T64_fmax5/shard0.h5 at location 7\n",
      "File /scratch/tmp.29038070.lcarretero/inputs3D_S32_Z32_T64_fmax5/shard0.h5 already in cache\n",
      "Loading file /scratch/tmp.29038070.lcarretero/inputs3D_S32_Z32_T64_fmax5/shard0.h5 at location 8\n",
      "File /scratch/tmp.29038070.lcarretero/inputs3D_S32_Z32_T64_fmax5/shard0.h5 already in cache\n",
      "Loading file /scratch/tmp.29038070.lcarretero/inputs3D_S32_Z32_T64_fmax5/shard0.h5 at location 9\n",
      "File /scratch/tmp.29038070.lcarretero/inputs3D_S32_Z32_T64_fmax5/shard0.h5 already in cache\n"
     ]
    },
    {
     "data": {
      "text/plain": [
       "torch.Size([1, 32, 32, 64])"
      ]
     },
     "execution_count": 3,
     "metadata": {},
     "output_type": "execute_result"
    }
   ],
   "source": [
    "import sys\n",
    "sys.path.append('/cluster/home/lcarretero/workspace/rds/GenCFD/GenCFD')\n",
    "\n",
    "from dataloader.seismics import UnconditionalSeismic3D\n",
    "\n",
    "UnconditionalSeismic3D_Metadata = dict(\n",
    "    store_dirpath='/cluster/work/math/camlab-data/Wave_HemewS-3D/processed/version1/inputs3D_S32_Z32_T64_fmax5',\n",
    "    move_to_local_scratch=True,\n",
    "    samples_per_file=100,\n",
    "    channels=['uE'],\n",
    "    input_shape=(32, 32, 64),\n",
    "    max_files=10,\n",
    "    cache_size=10,\n",
    "    normalize=True,\n",
    "    allow_stat_calculation=True\n",
    ")\n",
    "\n",
    "dataset = UnconditionalSeismic3D(**UnconditionalSeismic3D_Metadata)\n",
    "res = dataset.__getitem__(range(10), verbose=True)\n",
    "res[0]['target_cond'].shape"
   ]
  },
  {
   "cell_type": "code",
   "execution_count": 4,
   "metadata": {},
   "outputs": [
    {
     "data": {
      "text/plain": [
       "torch.Size([8, 1, 32, 32, 64])"
      ]
     },
     "execution_count": 4,
     "metadata": {},
     "output_type": "execute_result"
    }
   ],
   "source": [
    "from torch.utils.data import DataLoader\n",
    "\n",
    "dataloader = DataLoader(dataset, batch_size=8, shuffle=True)\n",
    "res = next(iter(dataloader))\n",
    "\n",
    "res['target_cond'].shape  # .permute(1, 0, 2, 3, 4)"
   ]
  },
  {
   "cell_type": "code",
   "execution_count": null,
   "metadata": {},
   "outputs": [],
   "source": [
    "x.shape=torch.Size([8, 1, 32, 32, 64])"
   ]
  }
 ],
 "metadata": {
  "kernelspec": {
   "display_name": "Python (rds-misc)",
   "language": "python",
   "name": "rds-misc"
  }
 },
 "nbformat": 4,
 "nbformat_minor": 2
}
