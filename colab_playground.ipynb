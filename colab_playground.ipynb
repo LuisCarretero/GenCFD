{
 "cells": [
  {
   "cell_type": "code",
   "execution_count": 18,
   "metadata": {},
   "outputs": [],
   "source": [
    "import torch\n",
    "import torch.nn as nn\n",
    "import os\n",
    "import numpy as np\n",
    "import matplotlib.pylab as plt\n"
   ]
  },
  {
   "cell_type": "code",
   "execution_count": 133,
   "metadata": {},
   "outputs": [],
   "source": [
    "# Generate Sine basis B of the shape (K, K, s, s)\n",
    "# For each mode (i,j), B[i,j] represents the function \n",
    "# sin(np.pi*i*x)*np.sin(np.pi*j*y) evaluated at the s*s uniform grid\n",
    "def generate_sine_basis(K = 16, s = 128):\n",
    "    xx,yy = np.meshgrid(np.arange(s), np.arange(s), indexing=\"ij\")\n",
    "    xx = xx/s\n",
    "    yy = yy/s\n",
    "    sine_basis  = np.zeros((K,K,s,s))\n",
    "    for i in range(1,K+1):\n",
    "        for j in range(1,K+1):  \n",
    "            sine_basis[i-1,j-1] = np.sin(np.pi*i*xx)*np.sin(np.pi*j*yy)\n",
    "    return sine_basis\n",
    "\n",
    "# Generate matrix B of the shape (K, K)\n",
    "# Each element (i,j) of the matrih has the value (i+1)**2 + (j+1)**2\n",
    "def generate_square_matrix(K = 16):\n",
    "    M = np.zeros((K, K))\n",
    "    for i in range(1, K+1):\n",
    "        for j in range(1, K+1):\n",
    "            M[i-1, j-1] = i**2 + j**2\n",
    "    return M\n",
    "\n",
    "# Analytical solution of 2d Wave equation\n",
    "def generate_solution_wave(coeff, time, sine_basis, square_matrix, K = 16, decay = 0.8, c = 0.1):\n",
    "    multiplier_f = coeff * np.power(square_matrix, decay)\n",
    "    multiplier_f = multiplier_f.reshape(K, K , 1, 1)\n",
    "    f = np.pi*np.sum(multiplier_f * sine_basis, axis = (0,1))\n",
    "\n",
    "    square_matrix_time = np.cos(c * np.pi * time * np.sqrt(square_matrix))\n",
    "    multiplier_u = coeff * np.power(square_matrix, decay) * square_matrix_time\n",
    "    multiplier_u = multiplier_u.reshape(K, K , 1, 1)\n",
    "    u = np.pi*np.sum(multiplier_u * sine_basis, axis = (0,1))\n",
    "\n",
    "    return f, u\n",
    "\n",
    "# Generation of micro-macro perturbations\n",
    "def generate_perturbation_wave(coeff, time, sine_basis, square_matrix, K = 16, decay = 0.8, c =0.1, perturbation = 0.25):\n",
    "    p_matrix = np.random.uniform(-perturbation, perturbation, (K, K))\n",
    "    #print(p_matrix)\n",
    "    return generate_solution_wave(coeff+p_matrix , time, sine_basis, square_matrix, K = K, decay = decay, c = c)"
   ]
  },
  {
   "cell_type": "code",
   "execution_count": 142,
   "metadata": {},
   "outputs": [],
   "source": [
    "def generate_training_data(c = 0.1, time = 5.0, N_data = 1024, K = 24, decay = -0.8, s = 128):\n",
    "    sine_basis = generate_sine_basis(K, s)\n",
    "    square_matrix = generate_square_matrix(K)\n",
    "\n",
    "    inputs = np.zeros((N, s, s))\n",
    "    targets = np.zeros((N, s, s))\n",
    "    \n",
    "    for n in range(N_data):\n",
    "        coeff = np.random.uniform(-1,1, (K, K))\n",
    "        inp, out = generate_solution_wave(coeff, time, sine_basis, square_matrix, K = K, decay = decay, c = c)\n",
    "        inputs[n] = inp\n",
    "        targets[n] = out\n",
    "\n",
    "        if n%20 == 0:\n",
    "            print(f\"Done {n+1} out of {N_data}\")\n",
    "        \n",
    "    print(\" \")\n",
    "\n",
    "    return inputs, targets\n",
    "\n",
    "def generate_micro_macro_data(coeff_macro, perturbation = 0.25, c = 0.1, time = 5.0, N_data = 1024, K = 24, decay = -0.8, s = 128):\n",
    "    sine_basis = generate_sine_basis(K, s)\n",
    "    square_matrix = generate_square_matrix(K)\n",
    "\n",
    "    inputs = np.zeros((N, s, s))\n",
    "    targets = np.zeros((N, s, s))\n",
    "    \n",
    "    for n in range(N_data):\n",
    "        inp, out = generate_perturbation_wave(coeff_macro, time, sine_basis, square_matrix, K = K, decay = decay, c = c, perturbation = perturbation)\n",
    "        inputs[n] = inp\n",
    "        targets[n] = out\n",
    "\n",
    "        if n%20 == 0:\n",
    "            print(f\"Done {n+1} micro out of {N_data}\")\n",
    "\n",
    "    print(\" \")\n",
    "\n",
    "    return inputs, targets\n"
   ]
  },
  {
   "cell_type": "code",
   "execution_count": 143,
   "metadata": {},
   "outputs": [
    {
     "name": "stdout",
     "output_type": "stream",
     "text": [
      "Done 1 out of 128\n",
      "Done 21 out of 128\n",
      "Done 41 out of 128\n",
      "Done 61 out of 128\n",
      "Done 81 out of 128\n",
      "Done 101 out of 128\n",
      "Done 121 out of 128\n",
      " \n",
      "Done 1 micro out of 128\n",
      "Done 21 micro out of 128\n",
      "Done 41 micro out of 128\n",
      "Done 61 micro out of 128\n",
      "Done 81 micro out of 128\n",
      "Done 101 micro out of 128\n",
      "Done 121 micro out of 128\n",
      " \n"
     ]
    }
   ],
   "source": [
    "K = 24\n",
    "s = 128\n",
    "decay = -0.8\n",
    "c = 0.1\n",
    "time = 5.0\n",
    "N_data = 128\n",
    "\n",
    "inp_train, out_train = generate_training_data(c = c, time = time, N_data = N_data, K = K, decay =decay, s = s)\n",
    "\n",
    "N_data_macro = 128\n",
    "perturbation = 0.25\n",
    "coeff_macro = np.random.uniform(-1,1, (K, K))\n",
    "\n",
    "inp_micro, out_micro = generate_micro_macro_data(coeff_macro, perturbation = perturbation, c = c, time = time, N_data = N_data_macro, K = K, decay = decay, s = s)\n"
   ]
  },
  {
   "cell_type": "code",
   "execution_count": null,
   "metadata": {},
   "outputs": [],
   "source": []
  }
 ],
 "metadata": {
  "kernelspec": {
   "display_name": "Python 3",
   "language": "python",
   "name": "python3"
  },
  "language_info": {
   "codemirror_mode": {
    "name": "ipython",
    "version": 3
   },
   "file_extension": ".py",
   "mimetype": "text/x-python",
   "name": "python",
   "nbconvert_exporter": "python",
   "pygments_lexer": "ipython3",
   "version": "3.11.6"
  },
  "orig_nbformat": 4
 },
 "nbformat": 4,
 "nbformat_minor": 2
}
